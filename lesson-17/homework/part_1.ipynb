{
 "cells": [
  {
   "cell_type": "code",
   "execution_count": null,
   "metadata": {},
   "outputs": [],
   "source": [
    "import sqlite3\n",
    "import pandas as pd \n",
    "conn = sqlite3.connect(r'C:\\Users\\user\\Downloads\\Python\\pythonhomeworks\\lesson-17\\homework\\chinook1.db')\n",
    "\n",
    "# Query for inner join\n",
    "query = \"\"\"\n",
    "SELECT c.CustomerId, c.FirstName, c.LastName, COUNT(i.InvoiceId) as InvoiceCount\n",
    "FROM customers c\n",
    "INNER JOIN invoices i ON c.CustomerId = i.CustomerId\n",
    "GROUP BY c.CustomerId, c.FirstName, c.LastName\n",
    "\"\"\"\n",
    "result = pd.read_sql_query(query, conn)\n",
    "\n",
    "print(result)\n",
    "conn.close()"
   ]
  },
  {
   "cell_type": "code",
   "execution_count": 7,
   "metadata": {},
   "outputs": [
    {
     "name": "stdout",
     "output_type": "stream",
     "text": [
      "Number of rows in left join: 30300\n",
      "Number of rows in full outer join: 30300\n"
     ]
    }
   ],
   "source": [
    "movies = pd.read_csv('movie.csv')\n",
    "df1 = movies[['director_name', 'color']]\n",
    "df2 = movies[['director_name', 'num_critic_for_reviews']]\n",
    "left_join_result = pd.merge(df1, df2, on='director_name', how='left')\n",
    "left_join_rows = left_join_result.shape[0]\n",
    "print(f\"Number of rows in left join: {left_join_rows}\")\n",
    "full_join_result = pd.merge(df1, df2, on='director_name', how='outer')\n",
    "full_join_rows = full_join_result.shape[0]\n",
    "print(f\"Number of rows in full outer join: {full_join_rows}\")"
   ]
  }
 ],
 "metadata": {
  "kernelspec": {
   "display_name": "Python 3",
   "language": "python",
   "name": "python3"
  },
  "language_info": {
   "codemirror_mode": {
    "name": "ipython",
    "version": 3
   },
   "file_extension": ".py",
   "mimetype": "text/x-python",
   "name": "python",
   "nbconvert_exporter": "python",
   "pygments_lexer": "ipython3",
   "version": "3.10.10"
  }
 },
 "nbformat": 4,
 "nbformat_minor": 2
}
