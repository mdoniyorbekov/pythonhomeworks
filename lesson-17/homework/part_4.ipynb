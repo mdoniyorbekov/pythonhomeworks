{
 "cells": [
  {
   "cell_type": "code",
   "execution_count": null,
   "metadata": {},
   "outputs": [],
   "source": [
    "import pandas as pd\n",
    "\n",
    "def filter_survivors(df):\n",
    "    return df[df['Survived'] == 1]\n",
    "\n",
    "def fill_age_mean(df):\n",
    "    df['Age'] = df['Age'].fillna(df['Age'].mean())\n",
    "    return df\n",
    "\n",
    "def add_fare_per_age(df):\n",
    "    df['Fare_Per_Age'] = df['Fare'] / df['Age']\n",
    "    return df\n",
    "\n",
    "titanic = pd.read_excel(r'C:\\Users\\user\\Downloads\\Python\\pythonhomeworks\\lesson-17\\homework\\titanic.xlsx')\n",
    "\n",
    "titanic_processed = (titanic\n",
    "                     .pipe(filter_survivors)\n",
    "                     .pipe(fill_age_mean)\n",
    "                     .pipe(add_fare_per_age))\n",
    "\n",
    "print(titanic_processed[['Survived', 'Age', 'Fare', 'Fare_Per_Age']].head())"
   ]
  }
 ],
 "metadata": {
  "kernelspec": {
   "display_name": "Python 3",
   "language": "python",
   "name": "python3"
  },
  "language_info": {
   "codemirror_mode": {
    "name": "ipython",
    "version": 3
   },
   "file_extension": ".py",
   "mimetype": "text/x-python",
   "name": "python",
   "nbconvert_exporter": "python",
   "pygments_lexer": "ipython3",
   "version": "3.10.10"
  }
 },
 "nbformat": 4,
 "nbformat_minor": 2
}
