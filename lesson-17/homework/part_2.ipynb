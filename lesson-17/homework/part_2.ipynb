{
 "cells": [
  {
   "cell_type": "code",
   "execution_count": 4,
   "metadata": {},
   "outputs": [
    {
     "name": "stdout",
     "output_type": "stream",
     "text": [
      "        Average_Age  Total_Fare  Passenger_Count\n",
      "Pclass                                          \n",
      "1         38.233441  18177.4125              216\n",
      "2         29.877630   3801.8417              184\n",
      "3         25.140620   6714.6951              491\n"
     ]
    }
   ],
   "source": [
    "#1 \n",
    "import pandas as pd\n",
    "\n",
    "titanic = pd.read_excel(r'C:\\Users\\user\\Downloads\\Python\\pythonhomeworks\\lesson-17\\homework\\titanic.xlsx')\n",
    "titanic_grouped = titanic.groupby('Pclass').agg({\n",
    "    'Age': 'mean',\n",
    "    'Fare': 'sum',\n",
    "    'PassengerId': 'count'\n",
    "}).rename(columns={\n",
    "    'Age': 'Average_Age',\n",
    "    'Fare': 'Total_Fare',\n",
    "    'PassengerId': 'Passenger_Count'\n",
    "})\n",
    "\n",
    "print(titanic_grouped)"
   ]
  },
  {
   "cell_type": "code",
   "execution_count": null,
   "metadata": {},
   "outputs": [
    {
     "name": "stdout",
     "output_type": "stream",
     "text": [
      "                                    Total_Reviews  Average_Duration\n",
      "color           director_name                                      \n",
      "Black and White Akira Kurosawa              153.0             202.0\n",
      "                Aleksey German              121.0             177.0\n",
      "                Alex Garland                489.0             108.0\n",
      "                Alexander Payne             433.0             115.0\n",
      "                Alfred Hitchcock            434.0             119.0\n",
      "...                                           ...               ...\n",
      "Color           Zoran Lisinac                17.0             108.0\n",
      "                Álex de la Iglesia           71.0             104.0\n",
      "                Émile Gaudreault             67.0              92.0\n",
      "                Éric Tessier                  9.0              99.0\n",
      "                Étienne Faure                 9.0              98.0\n",
      "\n",
      "[2490 rows x 2 columns]\n"
     ]
    }
   ],
   "source": [
    "#2\n",
    "movies = pd.read_csv('movie.csv')\n",
    "movie_grouped = movies.groupby(['color', 'director_name']).agg({\n",
    "    'num_critic_for_reviews': 'sum',\n",
    "    'duration': 'mean'\n",
    "}).rename(columns={\n",
    "    'num_critic_for_reviews': 'Total_Reviews',\n",
    "    'duration': 'Average_Duration'\n",
    "})\n",
    "print(movie_grouped)"
   ]
  }
 ],
 "metadata": {
  "kernelspec": {
   "display_name": "Python 3",
   "language": "python",
   "name": "python3"
  },
  "language_info": {
   "codemirror_mode": {
    "name": "ipython",
    "version": 3
   },
   "file_extension": ".py",
   "mimetype": "text/x-python",
   "name": "python",
   "nbconvert_exporter": "python",
   "pygments_lexer": "ipython3",
   "version": "3.10.10"
  }
 },
 "nbformat": 4,
 "nbformat_minor": 2
}
