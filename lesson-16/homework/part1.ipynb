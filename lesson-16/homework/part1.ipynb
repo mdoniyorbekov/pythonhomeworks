{
 "cells": [
  {
   "cell_type": "code",
   "execution_count": null,
   "metadata": {},
   "outputs": [],
   "source": [
    "import sqlite3\n",
    "import pandas as pd"
   ]
  },
  {
   "cell_type": "code",
   "execution_count": null,
   "metadata": {},
   "outputs": [],
   "source": [
    "#1.1\n",
    "conn = sqlite3.connect(r'C:\\Users\\user\\Downloads\\Python\\pythonhomeworks\\lesson-16\\homework\\chinook.db')\n",
    "customers_df = pd.read_sql_query(\"SELECT * FROM customers\", conn)\n",
    "print(\"First 10 rows of customers table:\")\n",
    "print(customers_df.head(10))\n",
    "conn.close()"
   ]
  },
  {
   "cell_type": "code",
   "execution_count": null,
   "metadata": {},
   "outputs": [],
   "source": [
    "#1.2\n",
    "iris_df = pd.read_json(r'C:\\Users\\user\\Downloads\\Python\\pythonhomeworks\\lesson-16\\homework\\iris.json')\n",
    "print(\"\\nIris dataset shape:\", iris_df.shape)\n",
    "print(\"Iris column names:\", iris_df.columns.tolist())"
   ]
  },
  {
   "cell_type": "code",
   "execution_count": null,
   "metadata": {},
   "outputs": [],
   "source": [
    "#1.3\n",
    "titanic_df = pd.read_excel(r'C:\\Users\\user\\Downloads\\Python\\pythonhomeworks\\lesson-16\\homework\\titanic.xlsx')\n",
    "print(\"\\nFirst 5 rows of Titanic dataset:\")\n",
    "print(titanic_df.head())"
   ]
  },
  {
   "cell_type": "code",
   "execution_count": null,
   "metadata": {},
   "outputs": [],
   "source": [
    "#1.5\n",
    "movie_df = pd.read_csv(r'C:\\Users\\user\\Downloads\\Python\\pythonhomeworks\\lesson-16\\homework\\movie.csv')\n",
    "print(\"\\nRandom sample of 10 rows from movie dataset:\")\n",
    "print(movie_df.sample(10))"
   ]
  }
 ],
 "metadata": {
  "kernelspec": {
   "display_name": "Python 3",
   "language": "python",
   "name": "python3"
  },
  "language_info": {
   "codemirror_mode": {
    "name": "ipython",
    "version": 3
   },
   "file_extension": ".py",
   "mimetype": "text/x-python",
   "name": "python",
   "nbconvert_exporter": "python",
   "pygments_lexer": "ipython3",
   "version": "3.10.10"
  }
 },
 "nbformat": 4,
 "nbformat_minor": 2
}
