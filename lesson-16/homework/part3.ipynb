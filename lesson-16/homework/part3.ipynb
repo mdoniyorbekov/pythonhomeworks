{
 "cells": [
  {
   "cell_type": "code",
   "execution_count": 9,
   "metadata": {},
   "outputs": [
    {
     "name": "stdout",
     "output_type": "stream",
     "text": [
      "Mean:\n",
      " sepalLength    5.843333\n",
      "sepalWidth     3.057333\n",
      "petalLength    3.758000\n",
      "petalWidth     1.199333\n",
      "Name: mean, dtype: float64\n",
      "\n",
      "Median:\n",
      " sepalLength    5.80\n",
      "sepalWidth     3.00\n",
      "petalLength    4.35\n",
      "petalWidth     1.30\n",
      "dtype: float64\n",
      "\n",
      "Standard Deviation:\n",
      " sepalLength    0.828066\n",
      "sepalWidth     0.435866\n",
      "petalLength    1.765298\n",
      "petalWidth     0.762238\n",
      "Name: std, dtype: float64\n"
     ]
    }
   ],
   "source": [
    "import pandas as pd\n",
    "\n",
    "iris_df = pd.read_json(r'C:\\Users\\user\\Downloads\\Python\\pythonhomeworks\\lesson-16\\homework\\iris.json')\n",
    "\n",
    "stats = iris_df.describe().loc[['mean', 'std']] \n",
    "median = iris_df.median(numeric_only=True)\n",
    "\n",
    "print(\"Mean:\\n\", stats.loc['mean'])\n",
    "print(\"\\nMedian:\\n\", median)\n",
    "print(\"\\nStandard Deviation:\\n\", stats.loc['std'])"
   ]
  },
  {
   "cell_type": "code",
   "execution_count": 10,
   "metadata": {},
   "outputs": [
    {
     "name": "stdout",
     "output_type": "stream",
     "text": [
      "\n",
      "Titanic Age Statistics:\n",
      "Minimum Age: 0.42\n",
      "Maximum Age: 80.0\n",
      "Sum of Ages: 21205.17\n"
     ]
    }
   ],
   "source": [
    "\n",
    "import pandas as pd\n",
    "titanic_df = pd.read_excel(r'C:\\Users\\user\\Downloads\\Python\\pythonhomeworks\\lesson-16\\homework\\titanic.xlsx')\n",
    "age_min = titanic_df['Age'].min()\n",
    "age_max = titanic_df['Age'].max()\n",
    "age_sum = titanic_df['Age'].sum()\n",
    "\n",
    "print(\"\\nTitanic Age Statistics:\")\n",
    "print(f\"Minimum Age: {age_min}\")\n",
    "print(f\"Maximum Age: {age_max}\")\n",
    "print(f\"Sum of Ages: {age_sum}\")"
   ]
  },
  {
   "cell_type": "code",
   "execution_count": 11,
   "metadata": {},
   "outputs": [
    {
     "name": "stdout",
     "output_type": "stream",
     "text": [
      "\n",
      "Movie Statistics:\n",
      "Director with most likes: Steven Spielberg (364000.0 likes)\n",
      "\n",
      "5 Longest Movies:\n",
      "                   movie_title        director_name  duration\n",
      "1694                   Trapped                  NaN     511.0\n",
      "2436                    Carlos                  NaN     334.0\n",
      "1487       Blood In, Blood Out      Taylor Hackford     330.0\n",
      "1134             Heaven's Gate       Michael Cimino     325.0\n",
      "3254  The Legend of Suriyothai  Chatrichalerm Yukol     300.0\n"
     ]
    }
   ],
   "source": [
    "movie_df = pd.read_csv(r'C:\\Users\\user\\Downloads\\Python\\pythonhomeworks\\lesson-16\\homework\\movie.csv')\n",
    "\n",
    "director_likes = movie_df.groupby('director_name')['director_facebook_likes'].sum()\n",
    "top_director = director_likes.idxmax()\n",
    "top_likes = director_likes.max()\n",
    "\n",
    "longest_movies = movie_df[['movie_title', 'director_name', 'duration']].nlargest(5, 'duration')\n",
    "\n",
    "print(\"\\nMovie Statistics:\")\n",
    "print(f\"Director with most likes: {top_director} ({top_likes} likes)\")\n",
    "print(\"\\n5 Longest Movies:\")\n",
    "print(longest_movies)"
   ]
  }
 ],
 "metadata": {
  "kernelspec": {
   "display_name": "Python 3",
   "language": "python",
   "name": "python3"
  },
  "language_info": {
   "codemirror_mode": {
    "name": "ipython",
    "version": 3
   },
   "file_extension": ".py",
   "mimetype": "text/x-python",
   "name": "python",
   "nbconvert_exporter": "python",
   "pygments_lexer": "ipython3",
   "version": "3.10.10"
  }
 },
 "nbformat": 4,
 "nbformat_minor": 2
}
