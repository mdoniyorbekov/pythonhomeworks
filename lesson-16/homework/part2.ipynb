{
 "cells": [
  {
   "cell_type": "code",
   "execution_count": 9,
   "metadata": {},
   "outputs": [],
   "source": [
    "import pandas as pd"
   ]
  },
  {
   "cell_type": "code",
   "execution_count": null,
   "metadata": {},
   "outputs": [
    {
     "name": "stdout",
     "output_type": "stream",
     "text": [
      "Original column names:\n",
      "['sepalLength', 'sepalWidth', 'petalLength', 'petalWidth', 'species']\n",
      "\n",
      "Column names after lowercase:\n",
      "['sepallength', 'sepalwidth', 'petallength', 'petalwidth', 'species']\n",
      "\n",
      "First few rows:\n",
      "   sepallength  sepalwidth  petallength  petalwidth species\n",
      "0          5.1         3.5          1.4         0.2  setosa\n",
      "1          4.9         3.0          1.4         0.2  setosa\n",
      "2          4.7         3.2          1.3         0.2  setosa\n",
      "3          4.6         3.1          1.5         0.2  setosa\n",
      "4          5.0         3.6          1.4         0.2  setosa\n"
     ]
    }
   ],
   "source": [
    "#1\n",
    "import pandas as pd\n",
    "iris_df = pd.read_json(r'C:\\Users\\user\\Downloads\\Python\\pythonhomeworks\\lesson-16\\homework\\iris.json')\n",
    "\n",
    "print(\"Original column names:\")\n",
    "print(iris_df.columns.tolist())\n",
    "\n",
    "iris_df.columns = iris_df.columns.str.lower()\n",
    "print(\"\\nColumn names after lowercase:\")\n",
    "print(iris_df.columns.tolist())\n",
    "print(\"\\nFirst few rows:\")\n",
    "print(iris_df.head())"
   ]
  },
  {
   "cell_type": "code",
   "execution_count": 3,
   "metadata": {},
   "outputs": [
    {
     "name": "stdout",
     "output_type": "stream",
     "text": [
      "Passengers over 30:\n",
      "    PassengerId  Survived  Pclass  \\\n",
      "1             2         1       1   \n",
      "3             4         1       1   \n",
      "4             5         0       3   \n",
      "6             7         0       1   \n",
      "11           12         1       1   \n",
      "\n",
      "                                                 Name     Sex   Age  SibSp  \\\n",
      "1   Cumings, Mrs. John Bradley (Florence Briggs Th...  female  38.0      1   \n",
      "3        Futrelle, Mrs. Jacques Heath (Lily May Peel)  female  35.0      1   \n",
      "4                            Allen, Mr. William Henry    male  35.0      0   \n",
      "6                             McCarthy, Mr. Timothy J    male  54.0      0   \n",
      "11                           Bonnell, Miss. Elizabeth  female  58.0      0   \n",
      "\n",
      "    Parch    Ticket     Fare Cabin Embarked  \n",
      "1       0  PC 17599  71.2833   C85        C  \n",
      "3       0    113803  53.1000  C123        S  \n",
      "4       0    373450   8.0500   NaN        S  \n",
      "6       0     17463  51.8625   E46        S  \n",
      "11      0    113783  26.5500  C103        S  \n",
      "\n",
      "Passenger count by gender:\n",
      "Sex\n",
      "male      577\n",
      "female    314\n",
      "Name: count, dtype: int64\n",
      "\n"
     ]
    }
   ],
   "source": [
    "#2\n",
    "import pandas as pd\n",
    "titanic_df = pd.read_excel(r'C:\\Users\\user\\Downloads\\Python\\pythonhomeworks\\lesson-16\\homework\\titanic.xlsx')\n",
    "over_30_df = titanic_df[titanic_df['Age'] > 30]\n",
    "print(\"Passengers over 30:\")\n",
    "print(over_30_df.head())\n",
    "gender_counts = titanic_df['Sex'].value_counts()\n",
    "print(\"\\nPassenger count by gender:\")\n",
    "print(gender_counts)\n",
    "print()"
   ]
  },
  {
   "cell_type": "code",
   "execution_count": 4,
   "metadata": {},
   "outputs": [
    {
     "name": "stdout",
     "output_type": "stream",
     "text": [
      "Movies over 120 minutes sorted by director Facebook likes:\n",
      "          director_name  duration  director_facebook_likes        gross  \\\n",
      "66    Christopher Nolan     152.0                  22000.0  533316061.0   \n",
      "3     Christopher Nolan     164.0                  22000.0  448130642.0   \n",
      "120   Christopher Nolan     128.0                  22000.0  205343774.0   \n",
      "1222  Christopher Nolan     130.0                  22000.0   53082743.0   \n",
      "97    Christopher Nolan     148.0                  22000.0  292568851.0   \n",
      "\n",
      "                                genres  \n",
      "66         Action|Crime|Drama|Thriller  \n",
      "3                      Action|Thriller  \n",
      "120                   Action|Adventure  \n",
      "1222     Drama|Mystery|Sci-Fi|Thriller  \n",
      "97    Action|Adventure|Sci-Fi|Thriller  \n"
     ]
    }
   ],
   "source": [
    "movie_df = pd.read_csv('movie.csv')\n",
    "long_movies = movie_df[movie_df['duration'] > 120]\n",
    "sorted_movies = long_movies.sort_values('director_facebook_likes', ascending=False)\n",
    "columns_to_show = ['director_name', 'duration', 'director_facebook_likes', 'gross', 'genres']\n",
    "sorted_movies_subset = sorted_movies[columns_to_show]\n",
    "\n",
    "print(\"Movies over 120 minutes sorted by director Facebook likes:\")\n",
    "print(sorted_movies_subset.head())"
   ]
  }
 ],
 "metadata": {
  "kernelspec": {
   "display_name": "Python 3",
   "language": "python",
   "name": "python3"
  },
  "language_info": {
   "codemirror_mode": {
    "name": "ipython",
    "version": 3
   },
   "file_extension": ".py",
   "mimetype": "text/x-python",
   "name": "python",
   "nbconvert_exporter": "python",
   "pygments_lexer": "ipython3",
   "version": "3.10.10"
  }
 },
 "nbformat": 4,
 "nbformat_minor": 2
}
