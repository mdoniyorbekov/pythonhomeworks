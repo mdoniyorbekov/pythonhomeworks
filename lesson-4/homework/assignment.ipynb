{
 "cells": [
  {
   "cell_type": "code",
   "execution_count": null,
   "metadata": {},
   "outputs": [
    {
     "name": "stdout",
     "output_type": "stream",
     "text": [
      "[1, 1, 3, 4]\n",
      "[1, 2, 3, 4, 5, 6]\n",
      "[1, 2, 2, 5]\n"
     ]
    }
   ],
   "source": [
    "def uncommon_elements(list1, list2):\n",
    "    from collections import Counter\n",
    "    \n",
    "    c1 = Counter(list1)\n",
    "    c2 = Counter(list2)\n",
    "    result = []\n",
    "    \n",
    "    for item in set(list1 + list2):\n",
    "        count1 = c1.get(item, 0)\n",
    "        count2 = c2.get(item, 0)\n",
    "        if count1 > count2:\n",
    "            result.extend([item] * (count1 - count2))\n",
    "        elif count2 > count1:\n",
    "            result.extend([item] * (count2 - count1))\n",
    "    \n",
    "    return result\n",
    "\n",
    "print(uncommon_elements([1, 1, 2], [2, 3, 4]))\n",
    "print(uncommon_elements([1, 2, 3], [4, 5, 6]))\n",
    "print(uncommon_elements([1, 1, 2, 3, 4, 2], [1, 3, 4, 5]))"
   ]
  },
  {
   "cell_type": "code",
   "execution_count": null,
   "metadata": {},
   "outputs": [
    {
     "name": "stdout",
     "output_type": "stream",
     "text": [
      "1\n",
      "4\n",
      "9\n",
      "16\n"
     ]
    }
   ],
   "source": [
    "def print_squares(n):\n",
    "    for i in range(1, n):\n",
    "        print(i * i)\n",
    "print_squares(5)"
   ]
  },
  {
   "cell_type": "code",
   "execution_count": null,
   "metadata": {},
   "outputs": [
    {
     "name": "stdout",
     "output_type": "stream",
     "text": [
      "hel_lo\n",
      "assa_lom_\n",
      "abca_bc_dab_cdea_bc_defa_bc_def_g\n"
     ]
    }
   ],
   "source": [
    "def add_underscore(txt):\n",
    "    vowels = 'aeiou'\n",
    "    result = \"\"\n",
    "    i = 0\n",
    "    while i < len(txt):\n",
    "        result += txt[i]\n",
    "        if (i + 1) % 3 == 0 and i != len(txt) - 1:\n",
    "            if txt[i] in vowels or (i + 1 < len(txt) and txt[i + 1] in vowels):\n",
    "                i += 1\n",
    "                if i < len(txt):\n",
    "                    result += txt[i]\n",
    "            result += \"_\"\n",
    "        i += 1\n",
    "    return result\n",
    "\n",
    "# Test cases\n",
    "print(add_underscore(\"hello\"))\n",
    "print(add_underscore(\"assalom\"))\n",
    "print(add_underscore(\"abcabcdabcdeabcdefabcdefg\"))"
   ]
  }
 ],
 "metadata": {
  "kernelspec": {
   "display_name": "Python 3",
   "language": "python",
   "name": "python3"
  },
  "language_info": {
   "codemirror_mode": {
    "name": "ipython",
    "version": 3
   },
   "file_extension": ".py",
   "mimetype": "text/x-python",
   "name": "python",
   "nbconvert_exporter": "python",
   "pygments_lexer": "ipython3",
   "version": "3.10.10"
  }
 },
 "nbformat": 4,
 "nbformat_minor": 2
}
